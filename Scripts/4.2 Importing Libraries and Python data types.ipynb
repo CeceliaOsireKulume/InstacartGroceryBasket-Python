{
 "cells": [
  {
   "cell_type": "markdown",
   "id": "8de7f137-76f5-4e82-a4a5-6213e2e06629",
   "metadata": {},
   "source": [
    "#01. Importing Libraries"
   ]
  },
  {
   "cell_type": "code",
   "execution_count": 1,
   "id": "3bb41077-0036-4cd7-8576-a8c489e13636",
   "metadata": {},
   "outputs": [],
   "source": [
    "#import libraries\n",
    "import pandas as pd\n",
    "import numpy as np\n",
    "import os "
   ]
  },
  {
   "cell_type": "markdown",
   "id": "5a3305a9-61a8-436a-b7d6-b252fd092872",
   "metadata": {},
   "source": [
    "#02. Working with Python data types"
   ]
  },
  {
   "cell_type": "markdown",
   "id": "3cef7021-406a-411e-a514-6d567bd17915",
   "metadata": {},
   "source": [
    "## Code 3 different ways of reaching a result of 100 by adding or subtracting numeric variables"
   ]
  },
  {
   "cell_type": "code",
   "execution_count": 13,
   "id": "2278e365-d5da-488e-bdaa-b8138c940e5e",
   "metadata": {},
   "outputs": [],
   "source": [
    "x = 2"
   ]
  },
  {
   "cell_type": "code",
   "execution_count": 14,
   "id": "584c147b-4eb5-4865-ab51-e6cb2aff16e0",
   "metadata": {},
   "outputs": [
    {
     "data": {
      "text/plain": [
       "2"
      ]
     },
     "execution_count": 14,
     "metadata": {},
     "output_type": "execute_result"
    }
   ],
   "source": [
    "x"
   ]
  },
  {
   "cell_type": "code",
   "execution_count": 15,
   "id": "576b8d6b-e74c-49bb-bce0-f893c0e90221",
   "metadata": {},
   "outputs": [
    {
     "name": "stdout",
     "output_type": "stream",
     "text": [
      "2\n"
     ]
    }
   ],
   "source": [
    "print(x)"
   ]
  },
  {
   "cell_type": "code",
   "execution_count": 16,
   "id": "c961a12b-2ffc-4f68-b177-b0f72872b595",
   "metadata": {},
   "outputs": [
    {
     "data": {
      "text/plain": [
       "100"
      ]
     },
     "execution_count": 16,
     "metadata": {},
     "output_type": "execute_result"
    }
   ],
   "source": [
    "x + 98"
   ]
  },
  {
   "cell_type": "code",
   "execution_count": 17,
   "id": "a4ef7182-61a6-4a13-90cd-133bb5d88232",
   "metadata": {},
   "outputs": [
    {
     "data": {
      "text/plain": [
       "100"
      ]
     },
     "execution_count": 17,
     "metadata": {},
     "output_type": "execute_result"
    }
   ],
   "source": [
    "x * 50"
   ]
  },
  {
   "cell_type": "code",
   "execution_count": 19,
   "id": "f6368756-9745-4b0a-8a4d-f6edba9e4d7b",
   "metadata": {},
   "outputs": [
    {
     "data": {
      "text/plain": [
       "100.0"
      ]
     },
     "execution_count": 19,
     "metadata": {},
     "output_type": "execute_result"
    }
   ],
   "source": [
    "200/x"
   ]
  },
  {
   "cell_type": "code",
   "execution_count": 20,
   "id": "120befc8-c0f4-454d-ab56-f59b9b854788",
   "metadata": {},
   "outputs": [
    {
     "data": {
      "text/plain": [
       "100"
      ]
     },
     "execution_count": 20,
     "metadata": {},
     "output_type": "execute_result"
    }
   ],
   "source": [
    "102 - x"
   ]
  },
  {
   "cell_type": "markdown",
   "id": "3558d4e7-54b8-4862-b35c-cc9666c628b2",
   "metadata": {},
   "source": [
    "## Code 2 floating point variables and divide them by each other"
   ]
  },
  {
   "cell_type": "code",
   "execution_count": 21,
   "id": "5f75e921-ab1c-43cd-84ae-bcd9d516ee6b",
   "metadata": {},
   "outputs": [],
   "source": [
    "y = 3.33"
   ]
  },
  {
   "cell_type": "code",
   "execution_count": 22,
   "id": "42ccf6df-e020-40aa-8345-b8ec529e41bd",
   "metadata": {},
   "outputs": [],
   "source": [
    "x = 9.99"
   ]
  },
  {
   "cell_type": "code",
   "execution_count": 23,
   "id": "c4031b0a-a0ad-4d8a-ac04-2a0d8da5cc30",
   "metadata": {},
   "outputs": [
    {
     "data": {
      "text/plain": [
       "3.0"
      ]
     },
     "execution_count": 23,
     "metadata": {},
     "output_type": "execute_result"
    }
   ],
   "source": [
    "x/y"
   ]
  },
  {
   "cell_type": "code",
   "execution_count": 27,
   "id": "04b0053b-5784-4ed0-953b-fa1c71dfe025",
   "metadata": {},
   "outputs": [],
   "source": [
    "y = 5.00"
   ]
  },
  {
   "cell_type": "code",
   "execution_count": 28,
   "id": "74be3fec-37b9-4222-b216-45655b169d7a",
   "metadata": {},
   "outputs": [],
   "source": [
    "x = 25.00"
   ]
  },
  {
   "cell_type": "code",
   "execution_count": 29,
   "id": "b045949e-faa1-41d5-b4d6-0ce715cbd34c",
   "metadata": {},
   "outputs": [
    {
     "data": {
      "text/plain": [
       "5.0"
      ]
     },
     "execution_count": 29,
     "metadata": {},
     "output_type": "execute_result"
    }
   ],
   "source": [
    "x/y"
   ]
  },
  {
   "cell_type": "markdown",
   "id": "8080c7c9-67c9-4e14-b945-153f3bb69c2c",
   "metadata": {},
   "source": [
    "## Construct a short word made of separate strings"
   ]
  },
  {
   "cell_type": "code",
   "execution_count": 34,
   "id": "478a266e-1150-41ca-953b-cbde0edf015f",
   "metadata": {},
   "outputs": [],
   "source": [
    "a = 'Good '"
   ]
  },
  {
   "cell_type": "code",
   "execution_count": 35,
   "id": "3627911c-b74e-4fcb-8e16-997af744e9b9",
   "metadata": {},
   "outputs": [],
   "source": [
    "b = 'Morning '"
   ]
  },
  {
   "cell_type": "code",
   "execution_count": 36,
   "id": "c09d1de2-9b5b-42df-8b44-a5f418ecb4de",
   "metadata": {},
   "outputs": [],
   "source": [
    "c = 'honey'"
   ]
  },
  {
   "cell_type": "code",
   "execution_count": 37,
   "id": "1297ffd5-ed6e-4d4c-bd1a-65aa9286a22b",
   "metadata": {},
   "outputs": [
    {
     "data": {
      "text/plain": [
       "'Good Morning honey'"
      ]
     },
     "execution_count": 37,
     "metadata": {},
     "output_type": "execute_result"
    }
   ],
   "source": [
    "a + b + c"
   ]
  },
  {
   "cell_type": "markdown",
   "id": "e6e336e0-c718-4ed8-884b-0c7e75ac7a32",
   "metadata": {},
   "source": [
    "## Construct 2 short sentences made of separate strings"
   ]
  },
  {
   "cell_type": "code",
   "execution_count": 38,
   "id": "8159bf71-84d1-4aae-8867-97fc1de378fb",
   "metadata": {},
   "outputs": [],
   "source": [
    "a = 'My husband '"
   ]
  },
  {
   "cell_type": "code",
   "execution_count": 39,
   "id": "4e30b534-37a3-4219-8da4-b4dd00e51a89",
   "metadata": {},
   "outputs": [],
   "source": [
    "b = 'is my Stronghold'"
   ]
  },
  {
   "cell_type": "code",
   "execution_count": 40,
   "id": "b37cc5ac-3f89-4e4c-94ae-d12a59865867",
   "metadata": {},
   "outputs": [
    {
     "data": {
      "text/plain": [
       "'My husband is my Stronghold'"
      ]
     },
     "execution_count": 40,
     "metadata": {},
     "output_type": "execute_result"
    }
   ],
   "source": [
    "a + b"
   ]
  },
  {
   "cell_type": "code",
   "execution_count": 41,
   "id": "2e23c937-6fac-4629-9ce5-bb4fa0ad75cd",
   "metadata": {},
   "outputs": [],
   "source": [
    "a = 'I love '"
   ]
  },
  {
   "cell_type": "code",
   "execution_count": 42,
   "id": "d7daf7ff-7f0d-4246-a5bd-66b6577fba8b",
   "metadata": {},
   "outputs": [],
   "source": [
    "b = 'my Daddy so much'"
   ]
  },
  {
   "cell_type": "code",
   "execution_count": 43,
   "id": "53267909-6ed9-4dd1-9747-becb9c0c3573",
   "metadata": {},
   "outputs": [
    {
     "data": {
      "text/plain": [
       "'I love my Daddy so much'"
      ]
     },
     "execution_count": 43,
     "metadata": {},
     "output_type": "execute_result"
    }
   ],
   "source": [
    "a + b"
   ]
  },
  {
   "cell_type": "markdown",
   "id": "f8a07a5d-03a7-4cb5-b1cb-bd8da6551872",
   "metadata": {},
   "source": [
    "## Bonus Task"
   ]
  },
  {
   "cell_type": "code",
   "execution_count": 44,
   "id": "8bdd21a3-04da-4624-b2d1-275fa66fdb91",
   "metadata": {},
   "outputs": [],
   "source": [
    "n = 'Jesus'"
   ]
  },
  {
   "cell_type": "code",
   "execution_count": 45,
   "id": "af1a3de4-af5d-45be-89e5-251e61699694",
   "metadata": {},
   "outputs": [
    {
     "data": {
      "text/plain": [
       "'JesusJesusJesusJesusJesusJesusJesusJesusJesusJesusJesusJesusJesusJesusJesusJesusJesusJesusJesusJesusJesusJesusJesusJesusJesusJesusJesusJesusJesusJesusJesusJesusJesusJesusJesusJesusJesusJesusJesusJesusJesusJesusJesusJesusJesusJesusJesusJesusJesusJesusJesusJesusJesusJesusJesusJesusJesusJesusJesusJesusJesusJesusJesusJesusJesusJesusJesusJesusJesusJesusJesusJesusJesusJesusJesusJesusJesusJesusJesusJesusJesusJesusJesusJesusJesusJesusJesusJesusJesusJesusJesusJesusJesusJesusJesusJesusJesusJesusJesusJesus'"
      ]
     },
     "execution_count": 45,
     "metadata": {},
     "output_type": "execute_result"
    }
   ],
   "source": [
    "n * 100"
   ]
  },
  {
   "cell_type": "code",
   "execution_count": 50,
   "id": "8155d779-fe3a-4dd2-9e14-5e032a0a0ea5",
   "metadata": {},
   "outputs": [],
   "source": [
    "n = 'My love, '"
   ]
  },
  {
   "cell_type": "code",
   "execution_count": 51,
   "id": "5594e99e-3f91-470a-baa4-f5679abfa4a2",
   "metadata": {},
   "outputs": [
    {
     "data": {
      "text/plain": [
       "'My love, My love, My love, My love, My love, My love, My love, My love, My love, My love, My love, My love, My love, My love, My love, My love, My love, My love, My love, My love, My love, My love, My love, My love, My love, My love, My love, My love, My love, My love, My love, My love, My love, My love, My love, My love, My love, My love, My love, My love, My love, My love, My love, My love, My love, My love, My love, My love, My love, My love, My love, My love, My love, My love, My love, My love, My love, My love, My love, My love, My love, My love, My love, My love, My love, My love, My love, My love, My love, My love, My love, My love, My love, My love, My love, My love, My love, My love, My love, My love, My love, My love, My love, My love, My love, My love, My love, My love, My love, My love, My love, My love, My love, My love, My love, My love, My love, My love, My love, My love, '"
      ]
     },
     "execution_count": 51,
     "metadata": {},
     "output_type": "execute_result"
    }
   ],
   "source": [
    "n * 100"
   ]
  }
 ],
 "metadata": {
  "kernelspec": {
   "display_name": "Python 3 (ipykernel)",
   "language": "python",
   "name": "python3"
  },
  "language_info": {
   "codemirror_mode": {
    "name": "ipython",
    "version": 3
   },
   "file_extension": ".py",
   "mimetype": "text/x-python",
   "name": "python",
   "nbconvert_exporter": "python",
   "pygments_lexer": "ipython3",
   "version": "3.12.4"
  }
 },
 "nbformat": 4,
 "nbformat_minor": 5
}
